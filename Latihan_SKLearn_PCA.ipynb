{
  "nbformat": 4,
  "nbformat_minor": 0,
  "metadata": {
    "colab": {
      "provenance": [],
      "toc_visible": true,
      "include_colab_link": true
    },
    "kernelspec": {
      "name": "python3",
      "display_name": "Python 3"
    }
  },
  "cells": [
    {
      "cell_type": "markdown",
      "metadata": {
        "id": "view-in-github",
        "colab_type": "text"
      },
      "source": [
        "<a href=\"https://colab.research.google.com/github/ruddypp/Latihan-SKLearn-PCA-/blob/main/Latihan_SKLearn_PCA.ipynb\" target=\"_parent\"><img src=\"https://colab.research.google.com/assets/colab-badge.svg\" alt=\"Open In Colab\"/></a>"
      ]
    },
    {
      "cell_type": "markdown",
      "source": [
        "# mengimpor dataset Iris dari sklearn, data tersebut sudah berada didalam google colab, jadi gaperlu diunduh"
      ],
      "metadata": {
        "id": "D0R2uRLddGJp"
      }
    },
    {
      "cell_type": "code",
      "metadata": {
        "id": "snyx5YV2ygwM"
      },
      "source": [
        "from sklearn import datasets\n",
        "from sklearn.model_selection import train_test_split\n",
        "\n",
        "iris = datasets.load_iris()\n",
        "atribut = iris.data\n",
        "label = iris.target\n",
        "\n"
      ],
      "execution_count": null,
      "outputs": []
    },
    {
      "cell_type": "markdown",
      "source": [
        "# membagi dataset menjadi train set dan test set"
      ],
      "metadata": {
        "id": "-NKnw05_maPL"
      }
    },
    {
      "cell_type": "code",
      "source": [
        "X_train, X_test, y_train, y_test = train_test_split(\n",
        "    atribut, label, test_size=0.2, random_state=1)"
      ],
      "metadata": {
        "id": "IgacLjzrmZN-"
      },
      "execution_count": null,
      "outputs": []
    },
    {
      "cell_type": "markdown",
      "source": [
        "# membuat model decission tree tanpa PCA, dan dilatih menggunakan data latih. Kemudian, akurasi model diukur terhadap data uji"
      ],
      "metadata": {
        "id": "ihuFezt2dHFm"
      }
    },
    {
      "cell_type": "code",
      "metadata": {
        "id": "xm3Y-q9-yrXv",
        "outputId": "ef5dc905-891a-4796-c995-fd0de681b4b3",
        "colab": {
          "base_uri": "https://localhost:8080/"
        }
      },
      "source": [
        "from sklearn import tree\n",
        "\n",
        "# menghitung akurasi model tanpa PCA\n",
        "decision_tree = tree.DecisionTreeClassifier()\n",
        "model_pertama = decision_tree.fit(X_train, y_train)\n",
        "model_pertama.score(X_test, y_test)"
      ],
      "execution_count": null,
      "outputs": [
        {
          "output_type": "execute_result",
          "data": {
            "text/plain": [
              "0.9666666666666667"
            ]
          },
          "metadata": {},
          "execution_count": 2
        }
      ]
    },
    {
      "cell_type": "markdown",
      "source": [
        "# Pengimplementasian PCA, PCA digunakan untuk mereduksi dimensi dataset"
      ],
      "metadata": {
        "id": "79h2LksWdH95"
      }
    },
    {
      "cell_type": "code",
      "metadata": {
        "id": "LXfvFEeAytjT",
        "outputId": "5c82931f-c70f-4319-b68f-78f7b35319f2",
        "colab": {
          "base_uri": "https://localhost:8080/"
        }
      },
      "source": [
        "from sklearn.decomposition import PCA\n",
        "\n",
        "# membuat objek PCA dengan 4 principal component\n",
        "pca = PCA(n_components=4)\n",
        "\n",
        "# mengaplikasikan PCA pada dataset\n",
        "pca_attributes = pca.fit_transform(X_train)\n",
        "\n",
        "# melihat variance dari setiap atribut\n",
        "pca.explained_variance_ratio_"
      ],
      "execution_count": null,
      "outputs": [
        {
          "output_type": "execute_result",
          "data": {
            "text/plain": [
              "array([0.92848323, 0.04764372, 0.01931005, 0.004563  ])"
            ]
          },
          "metadata": {},
          "execution_count": 3
        }
      ]
    },
    {
      "cell_type": "markdown",
      "source": [
        "# Menerapkan PCA dengan 2 komponen, dan menerapkannya di data latih dan uji. Pada data yang sudah direduksi, disimpan dalam x_train dan x_test"
      ],
      "metadata": {
        "id": "D99PFbm6dJah"
      }
    },
    {
      "cell_type": "code",
      "metadata": {
        "id": "2ytSpsehyvpZ"
      },
      "source": [
        "# PCA dengan 2 principal component\n",
        "pca = PCA(n_components = 2)\n",
        "X_train_pca = pca.fit_transform(X_train)\n",
        "X_test_pca = pca.fit_transform(X_test)"
      ],
      "execution_count": null,
      "outputs": []
    },
    {
      "cell_type": "markdown",
      "source": [
        "# setelah mereduksi data dengan PCA, model Decision Tree dilatih kembali dengan data hasil PCA, model kemudian diukur kembali untuk melihat perbandingannya dengan model tanpa PCA"
      ],
      "metadata": {
        "id": "Or-b80rNdKHo"
      }
    },
    {
      "cell_type": "code",
      "metadata": {
        "id": "xrRv6-SFyzdT",
        "outputId": "20882480-f8df-465c-c111-b90253450204",
        "colab": {
          "base_uri": "https://localhost:8080/"
        }
      },
      "source": [
        "# uji akurasi classifier\n",
        "\n",
        "model2 = decision_tree.fit(X_train_pca, y_train)\n",
        "model2.score(X_test_pca, y_test)"
      ],
      "execution_count": null,
      "outputs": [
        {
          "output_type": "execute_result",
          "data": {
            "text/plain": [
              "0.9333333333333333"
            ]
          },
          "metadata": {},
          "execution_count": 5
        }
      ]
    }
  ]
}